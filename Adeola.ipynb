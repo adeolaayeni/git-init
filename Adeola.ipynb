{
 "cells": [
  {
   "cell_type": "markdown",
   "metadata": {},
   "source": [
    "# 2016 US Bike Share Activity Snapshot\n",
    "\n",
    "## Table of Contents\n",
    "- [Introduction](#intro)\n",
    "- [Posing Questions](#pose_questions)\n",
    "- [Data Collection and Wrangling](#wrangling)\n",
    "  - [Condensing the Trip Data](#condensing)\n",
    "- [Exploratory Data Analysis](#eda)\n",
    "  - [Statistics](#statistics)\n",
    "  - [Visualizations](#visualizations)\n",
    "- [Performing Your Own Analysis](#eda_continued)\n",
    "- [Conclusions](#conclusions)\n",
    "\n",
    "<a id='intro'></a>\n",
    "## Introduction\n",
    "\n",
    "> **Tip**: Quoted sections like this will provide helpful instructions on how to navigate and use a Jupyter notebook.\n",
    "\n",
    "Over the past decade, bicycle-sharing systems have been growing in number and popularity in cities across the world. Bicycle-sharing systems allow users to rent bicycles for short trips, typically 30 minutes or less. Thanks to the rise in information technologies, it is easy for a user of the system to access a dock within the system to unlock or return bicycles. These technologies also provide a wealth of data that can be used to explore how these bike-sharing systems are used.\n",
    "\n",
    "In this project, you will perform an exploratory analysis on data provided by [Motivate](https://www.motivateco.com/), a bike-share system provider for many major cities in the United States. You will compare the system usage between three large cities: New York City, Chicago, and Washington, DC. You will also see if there are any differences within each system for those users that are registered, regular users and those users that are short-term, casual users."
   ]
  },
  {
   "cell_type": "markdown",
   "metadata": {},
   "source": [
    "<a id='pose_questions'></a>\n",
    "## Posing Questions\n",
    "\n",
    "Before looking at the bike sharing data, you should start by asking questions you might want to understand about the bike share data. Consider, for example, if you were working for Motivate. What kinds of information would you want to know about in order to make smarter business decisions? If you were a user of the bike-share service, what factors might influence how you would want to use the service?\n",
    "\n",
    "**Question 1**: Write at least two questions related to bike sharing that you think could be answered by data.\n",
    "\n",
    "**Answer**: What is the proportion of female to male that uses Bike, How does weather affect the seasonal use of Bike,What age bracket uses the Bike more\n",
    "\n",
    "\n",
    "> **Tip**: If you double click on this cell, you will see the text change so that all of the formatting is removed. This allows you to edit this block of text. This block of text is written using [Markdown](http://daringfireball.net/projects/markdown/syntax), which is a way to format text using headers, links, italics, and many other options using a plain-text syntax. You will also use Markdown later in the Nanodegree program. Use **Shift** + **Enter** or **Shift** + **Return** to run the cell and show its rendered form."
   ]
  },
  {
   "cell_type": "markdown",
   "metadata": {},
   "source": [
    "<a id='wrangling'></a>\n",
    "## Data Collection and Wrangling\n",
    "\n",
    "Now it's time to collect and explore our data. In this project, we will focus on the record of individual trips taken in 2016 from our selected cities: New York City, Chicago, and Washington, DC. Each of these cities has a page where we can freely download the trip data.:\n",
    "\n",
    "- New York City (Citi Bike): [Link](https://www.citibikenyc.com/system-data)\n",
    "- Chicago (Divvy): [Link](https://www.divvybikes.com/system-data)\n",
    "- Washington, DC (Capital Bikeshare): [Link](https://www.capitalbikeshare.com/system-data)\n",
    "\n",
    "If you visit these pages, you will notice that each city has a different way of delivering its data. Chicago updates with new data twice a year, Washington DC is quarterly, and New York City is monthly. **However, you do not need to download the data yourself.** The data has already been collected for you in the `/data/` folder of the project files. While the original data for 2016 is spread among multiple files for each city, the files in the `/data/` folder collect all of the trip data for the year into one file per city. Some data wrangling of inconsistencies in timestamp format within each city has already been performed for you. In addition, a random 2% sample of the original data is taken to make the exploration more manageable. \n",
    "\n",
    "**Question 2**: However, there is still a lot of data for us to investigate, so it's a good idea to start off by looking at one entry from each of the cities we're going to analyze. Run the first code cell below to load some packages and functions that you'll be using in your analysis. Then, complete the second code cell to print out the first trip recorded from each of the cities (the second line of each data file).\n",
    "\n",
    "> **Tip**: You can run a code cell like you formatted Markdown cells above by clicking on the cell and using the keyboard shortcut **Shift** + **Enter** or **Shift** + **Return**. Alternatively, a code cell can be executed using the **Play** button in the toolbar after selecting it. While the cell is running, you will see an asterisk in the message to the left of the cell, i.e. `In [*]:`. The asterisk will change into a number to show that execution has completed, e.g. `In [1]`. If there is output, it will show up as `Out [1]:`, with an appropriate number to match the \"In\" number."
   ]
  },
  {
   "cell_type": "code",
   "execution_count": 1,
   "metadata": {},
   "outputs": [],
   "source": [
    "## import all necessary packages and functions.\n",
    "import csv # read and write csv files\n",
    "from datetime import datetime\n",
    "from datetime import date # operations to parse dates\n",
    "from pprint import pprint # use to print data structures like dictionaries in\n",
    "                          # a nicer way than the base print function\n",
    "import pandas as pd \n",
    "import numpy as np\n",
    "import seaborn as sns\n",
    "sns.set_style('darkgrid')\n"
   ]
  },
  {
   "cell_type": "code",
   "execution_count": 2,
   "metadata": {},
   "outputs": [
    {
     "name": "stdout",
     "output_type": "stream",
     "text": [
      "\n",
      "City: NYC\n",
      "{'bikeid': '17109',\n",
      " 'birth year': '',\n",
      " 'end station id': '401',\n",
      " 'end station latitude': '40.72019576',\n",
      " 'end station longitude': '-73.98997825',\n",
      " 'end station name': 'Allen St & Rivington St',\n",
      " 'gender': '0',\n",
      " 'start station id': '532',\n",
      " 'start station latitude': '40.710451',\n",
      " 'start station longitude': '-73.960876',\n",
      " 'start station name': 'S 5 Pl & S 4 St',\n",
      " 'starttime': '1/1/2016 00:09:55',\n",
      " 'stoptime': '1/1/2016 00:23:54',\n",
      " 'tripduration': '839',\n",
      " 'usertype': 'Customer'}\n",
      "\n",
      "City: Chicago\n",
      "{'bikeid': '2295',\n",
      " 'birthyear': '1990',\n",
      " 'from_station_id': '156',\n",
      " 'from_station_name': 'Clark St & Wellington Ave',\n",
      " 'gender': 'Male',\n",
      " 'starttime': '3/31/2016 23:30',\n",
      " 'stoptime': '3/31/2016 23:46',\n",
      " 'to_station_id': '166',\n",
      " 'to_station_name': 'Ashland Ave & Wrightwood Ave',\n",
      " 'trip_id': '9080545',\n",
      " 'tripduration': '926',\n",
      " 'usertype': 'Subscriber'}\n",
      "\n",
      "City: Washington\n",
      "{'Bike number': 'W20842',\n",
      " 'Duration (ms)': '427387',\n",
      " 'End date': '3/31/2016 23:04',\n",
      " 'End station': 'Georgia Ave and Fairmont St NW',\n",
      " 'End station number': '31207',\n",
      " 'Member Type': 'Registered',\n",
      " 'Start date': '3/31/2016 22:57',\n",
      " 'Start station': 'Park Rd & Holmead Pl NW',\n",
      " 'Start station number': '31602'}\n"
     ]
    }
   ],
   "source": [
    "def print_first_point(filename):\n",
    "    \"\"\"\n",
    "    This function prints and returns the first data point (second row) from\n",
    "    a csv file that includes a header row.\n",
    "    \"\"\"\n",
    "    # print city name for reference\n",
    "    \n",
    "    \n",
    "    city =filename.split('-')[0].split('/')[-1]\n",
    "    print('\\nCity: {}'.format(city))\n",
    "        \n",
    "    with open(filename,'r')as csvfile:\n",
    "        reader= csv.DictReader(csvfile)\n",
    "        first_trip=next(reader)\n",
    "        \n",
    "        ## TODO: Use a function on the DictReader object to read the     ##\n",
    "        ## first trip from the data file and store it in a variable.     ##\n",
    "        ## see https://docs.python.org/3/library/csv.html#reader-objects ##    \n",
    "        \n",
    "        ## TODO: Use the pprint library to print the first trip. ##\n",
    "        ## see https://docs.python.org/3/library/pprint.html     ##\n",
    "        \n",
    "        pprint(first_trip)\n",
    "        return(city,first_trip)\n",
    "        \n",
    "    # output city name and first trip for later testing\n",
    "        \n",
    "\n",
    "##list of files for each city\n",
    "data_files = ['./data/NYC-CitiBike-2016.csv',\n",
    "              './data/Chicago-Divvy-2016.csv',\n",
    "              './data/Washington-CapitalBikeshare-2016.csv',]\n",
    "\n",
    "# print the first trip from each file, store in dictionary\n",
    "example_trips = {}\n",
    "for data_file in data_files:\n",
    "    city,first_trip = print_first_point(data_file)\n",
    "    example_trips[city]=first_trip\n",
    "\n",
    "    "
   ]
  },
  {
   "cell_type": "markdown",
   "metadata": {},
   "source": [
    "#### If everything has been filled out correctly, you should see below the printout of each city name (which has been parsed from the data file name) that the first trip has been parsed in the form of a dictionary. When you set up a `DictReader` object, the first row of the data file is normally interpreted as column names. Every other row in the data file will use those column names as keys, as a dictionary is generated for each row.\n",
    "\n",
    "This will be useful since we can refer to quantities by an easily-understandable label instead of just a numeric index. For example, if we have a trip stored in the variable `row`, then we would rather get the trip duration from `row['duration']` instead of `row[0]`.\n",
    "\n",
    "<a id='condensing'></a>\n",
    "### Condensing the Trip Data\n",
    "\n",
    "It should also be observable from the above printout that each city provides different information. Even where the information is the same, the column names and formats are sometimes different. To make things as simple as possible when we get to the actual exploration, we should trim and clean the data. Cleaning the data makes sure that the data formats across the cities are consistent, while trimming focuses only on the parts of the data we are most interested in to make the exploration easier to work with.\n",
    "\n",
    "You will generate new data files with five values of interest for each trip: trip duration, starting month, starting hour, day of the week, and user type. Each of these may require additional wrangling depending on the city:\n",
    "\n",
    "- **Duration**: This has been given to us in seconds (New York, Chicago) or milliseconds (Washington). A more natural unit of analysis will be if all the trip durations are given in terms of minutes.\n",
    "- **Month**, **Hour**, **Day of Week**: Ridership volume is likely to change based on the season, time of day, and whether it is a weekday or weekend. Use the start time of the trip to obtain these values. The New York City data includes the seconds in their timestamps, while Washington and Chicago do not. The [`datetime`](https://docs.python.org/3/library/datetime.html) package will be very useful here to make the needed conversions.\n",
    "- **User Type**: It is possible that users who are subscribed to a bike-share system will have different patterns of use compared to users who only have temporary passes. Washington divides its users into two types: 'Registered' for users with annual, monthly, and other longer-term subscriptions, and 'Casual', for users with 24-hour, 3-day, and other short-term passes. The New York and Chicago data uses 'Subscriber' and 'Customer' for these groups, respectively. For consistency, you will convert the Washington labels to match the other two.\n",
    "\n",
    "\n",
    "**Question 3a**: Complete the helper functions in the code cells below to address each of the cleaning tasks described above."
   ]
  },
  {
   "cell_type": "code",
   "execution_count": 3,
   "metadata": {},
   "outputs": [],
   "source": [
    "def duration_in_mins(datum, city):\n",
    "    \"\"\"\n",
    "    Takes as input a dictionary containing info about a single trip (datum) and\n",
    "    its origin city (city) and returns the trip duration in units of minutes.\n",
    "    \n",
    "    Remember that Washington is in terms of milliseconds while Chicago and NYC\n",
    "    are in terms of seconds. \n",
    "    \n",
    "    HINT: The csv module reads in all of the data as strings, including numeric\n",
    "    values. You will need a function to convert the strings into an appropriate\n",
    "    numeric type when making your transformations.\n",
    "    see https://docs.python.org/3/library/functions.html\n",
    "    \"\"\"\n",
    "    \n",
    "    if city =='Washington':\n",
    "        duration= float(datum['Duration (ms)'])/(1000*60)# converts time to a float and minutes.\n",
    "    \n",
    "    else:   \n",
    "        duration= float(datum['tripduration'])/60# converts time to a float and minutes.\n",
    "        \n",
    "    return duration\n",
    "\n",
    "# Some tests to check that your code works. There should be no output if all of\n",
    "# the assertions pass. The `example_trips` dictionary was obtained from when\n",
    "# you printed the first trip from each of the original data files.\n",
    "tests = {'NYC': 13.9833,\n",
    "         'Chicago': 15.4333,\n",
    "         'Washington': 7.1231}\n",
    "\n",
    "for city in tests:\n",
    "    assert abs(duration_in_mins(example_trips[city], city) - tests[city]) < .001"
   ]
  },
  {
   "cell_type": "code",
   "execution_count": 4,
   "metadata": {},
   "outputs": [],
   "source": [
    "def time_of_trip(datum, city):\n",
    "    \"\"\"\n",
    "   Takes as input a dictionary containing info about a single trip (datum) and\n",
    "   its origin city (city) and returns the month, hour, and day of the week in\n",
    "   which the trip was made.\n",
    " \n",
    "   Remember that NYC includes seconds, while Washington and Chicago do not.\n",
    " \n",
    "   HINT: You should use the datetime module to parse the original date\n",
    "   strings into a format that is useful for extracting the desired information.\n",
    "   see https://docs.python.org/3/library/datetime.html#strftime-and-strptime-behavior\n",
    "   \"\"\"\n",
    "   \n",
    "    # YOUR CODE HERE\n",
    "       \n",
    "    if city=='NYC':\n",
    "       \n",
    "        trip_time=datetime.strptime(datum['starttime'],'%m/%d/%Y %H:%M:%S')\n",
    "     \n",
    "    elif city=='Chicago':\n",
    "        trip_time=datetime.strptime(datum['starttime'],'%m/%d/%Y %H:%M')\n",
    "       \n",
    "    else:\n",
    "        trip_time=datetime.strptime(datum['Start date'],'%m/%d/%Y %H:%M')\n",
    " \n",
    "    month= int(trip_time.strftime('%m'))# conversion to months and whole number(integer)\n",
    "    hour= int(trip_time.strftime('%H'))# conversion to Hours and whole number(integer)\n",
    "    day_of_week=trip_time.strftime('%A')# conversion to Weekday\n",
    "       \n",
    "    return (month, hour, day_of_week)\n",
    " \n",
    "# Some tests to check that your code works. There should be no output if all of\n",
    "# the assertions pass. The `example_trips` dictionary was obtained from when\n",
    "# you printed the first trip from each of the original data files.\n",
    "tests = {'NYC': (1, 0, 'Friday'),\n",
    "         'Chicago': (3, 23, 'Thursday'),\n",
    "         'Washington': (3, 22, 'Thursday')}\n",
    " \n",
    "for city in tests:\n",
    "    assert time_of_trip(example_trips[city], city)== tests[city]"
   ]
  },
  {
   "cell_type": "code",
   "execution_count": 5,
   "metadata": {},
   "outputs": [],
   "source": [
    "def type_of_user(datum, city):\n",
    "    \"\"\"\n",
    "    Takes as input a dictionary cotianing info about a single trip(datum)\n",
    "    and it's origin city and returns the type of system user that made the \n",
    "    trip.\n",
    "    Remember that Washington have different category name compared to\n",
    "    Chicago and NYC\n",
    "    \"\"\"\n",
    "\n",
    "    # YOUR CODE HERE\n",
    "    \n",
    "    if city=='Washington': \n",
    "        type_of_user=datum['Member Type']\n",
    "        if type_of_user=='Registered':\n",
    "            type_of_user='Subscriber'\n",
    "        else:\n",
    "            type_of_user='Customer'\n",
    "\n",
    "    else:\n",
    "        type_of_user=datum['usertype']\n",
    "    \n",
    "        \n",
    "    return type_of_user\n",
    "    \n",
    "\n",
    "\n",
    "# Some tests to check that your code works. There should be no output if all of\n",
    "# the assertions pass. The `example_trips` dictionary was obtained from when\n",
    "# you printed the first trip from each of the original data files.\n",
    "tests = {'NYC': 'Customer',\n",
    "         'Chicago': 'Subscriber',\n",
    "         'Washington': 'Subscriber'}\n",
    "\n",
    "for city in tests:\n",
    "    assert type_of_user(example_trips[city], city) == tests[city]"
   ]
  },
  {
   "cell_type": "markdown",
   "metadata": {},
   "source": [
    "**Question 3b**: Now, use the helper functions you wrote above to create a condensed data file for each city consisting only of the data fields indicated above. In the `/examples/` folder, you will see an example datafile from the [Bay Area Bike Share](http://www.bayareabikeshare.com/open-data) before and after conversion. Make sure that your output is formatted to be consistent with the example file."
   ]
  },
  {
   "cell_type": "code",
   "execution_count": 6,
   "metadata": {},
   "outputs": [],
   "source": [
    "\n",
    "def condense_data(in_file, out_file, city):\n",
    "    \"\"\"\n",
    "    This function takes full data from the specified input file\n",
    "    and writes the condensed data to a specified output file. The city\n",
    "    argument determines how the input file will be parsed.\n",
    "    \n",
    "    HINT: See the cell below to see how the arguments are structured!\n",
    "    \"\"\"\n",
    "    \n",
    "    with open(out_file, 'w') as f_out, open(in_file, 'r') as f_in:\n",
    "        # set up csv DictWriter object - writer requires column names for the\n",
    "        # first row as the \"fieldnames\" argument\n",
    "        \n",
    "        out_colnames= ['duration', 'month', 'hour', 'day_of_week', 'user_type'] \n",
    "        trip_writer = csv.DictWriter(f_out, fieldnames = out_colnames)\n",
    "        trip_writer.writeheader()\n",
    "        \n",
    "        ## TODO: set up csv DictReader object ##\n",
    "    \n",
    "        trip_reader=csv.DictReader(f_in)\n",
    "    \n",
    "        # collect data from and process each row\n",
    "        for row in trip_reader:\n",
    "            new_point={}\n",
    "            new_point['duration']= duration_in_mins(row, city)\n",
    "            new_point['month']=time_of_trip(row,city)[0]\n",
    "            new_point['hour']=time_of_trip(row,city)[1]\n",
    "            new_point['day_of_week']=time_of_trip(row,city)[2]\n",
    "            new_point['user_type']=type_of_user(row,city)\n",
    "            \n",
    "        \n",
    "            \n",
    "         # set up a dictionary to hold the values for the cleaned and trimmed\n",
    "         # data point\n",
    "            \n",
    "            ## TODO: use the helper functions to get the cleaned data from  ##\n",
    "            ## the original data dictionaries.                              ##\n",
    "            ## Note that the keys for the new_point dictionary should match ##\n",
    "            ## the column names set in the DictWriter object above.         ##\n",
    "            \n",
    "            ## TODO: write the processed information to the output file.     ##\n",
    "            ## see https://docs.python.org/3/library/csv.html#writer-objects ##\n",
    "            \n",
    "            trip_writer.writerow(new_point)\n",
    "            \n",
    "                                            \n",
    "                                \n",
    "                        "
   ]
  },
  {
   "cell_type": "code",
   "execution_count": 7,
   "metadata": {},
   "outputs": [
    {
     "name": "stdout",
     "output_type": "stream",
     "text": [
      "\n",
      "City: NYC\n",
      "{'day_of_week': 'Friday',\n",
      " 'duration': '13.983333333333333',\n",
      " 'hour': '0',\n",
      " 'month': '1',\n",
      " 'user_type': 'Customer'}\n",
      "\n",
      "City: Washington\n",
      "{'day_of_week': 'Thursday',\n",
      " 'duration': '7.123116666666666',\n",
      " 'hour': '22',\n",
      " 'month': '3',\n",
      " 'user_type': 'Subscriber'}\n",
      "\n",
      "City: Chicago\n",
      "{'day_of_week': 'Thursday',\n",
      " 'duration': '15.433333333333334',\n",
      " 'hour': '23',\n",
      " 'month': '3',\n",
      " 'user_type': 'Subscriber'}\n"
     ]
    }
   ],
   "source": [
    "#Run this cell to check your work\n",
    "city_info = {'Washington': {'in_file': './data/Washington-CapitalBikeshare-2016.csv',\n",
    "                            'out_file': './data/Washington-2016-Summary.csv'},\n",
    "             'Chicago': {'in_file': './data/Chicago-Divvy-2016.csv',\n",
    "                         'out_file': './data/Chicago-2016-Summary.csv'},\n",
    "             'NYC': {'in_file': './data/NYC-CitiBike-2016.csv',\n",
    "                     'out_file': './data/NYC-2016-Summary.csv'}}\n",
    "\n",
    "for city, filenames in city_info.items():\n",
    "    condense_data(filenames['in_file'], filenames['out_file'], city)\n",
    "    print_first_point(filenames['out_file'])"
   ]
  },
  {
   "cell_type": "code",
   "execution_count": null,
   "metadata": {},
   "outputs": [],
   "source": [
    "\n",
    "    \n"
   ]
  },
  {
   "cell_type": "markdown",
   "metadata": {},
   "source": [
    "> **Tip**: If you save a jupyter Notebook, the output from running code blocks will also be saved. However, the state of your workspace will be reset once a new session is started. Make sure that you run all of the necessary code blocks from your previous session to reestablish variables and functions before picking up where you last left off.\n",
    "\n",
    "<a id='eda'></a>\n",
    "## Exploratory Data Analysis\n",
    "\n",
    "Now that you have the data collected and wrangled, you're ready to start exploring the data. In this section you will write some code to compute descriptive statistics from the data. You will also be introduced to the `matplotlib` library to create some basic histograms of the data.\n",
    "\n",
    "<a id='statistics'></a>\n",
    "### Statistics\n",
    "\n",
    "First, let's compute some basic counts. The first cell below contains a function that uses the csv module to iterate through a provided data file, returning the number of trips made by subscribers and customers. The second cell runs this function on the example Bay Area data in the `/examples/` folder. Modify the cells to answer the question below.\n",
    "\n",
    "**Question 4a**: Which city has the highest number of trips? Which city has the highest proportion of trips made by subscribers? Which city has the highest proportion of trips made by short-term customers?\n",
    "\n",
    "**Answer**: NYC has the Highest number of trips:-276798, \n",
    "            NYC has the highest proportion of trips made by subscribers\n",
    "            Chicago has the highest proportion of short term customers\n",
    "            \n",
    "            \n"
   ]
  },
  {
   "cell_type": "code",
   "execution_count": 8,
   "metadata": {},
   "outputs": [],
   "source": [
    "def number_of_trips(filename):\n",
    "    \"\"\"\n",
    "    This function reads in a file with trip data and reports the number of\n",
    "    trips made by subscribers, customers, and total overall.\n",
    "    \"\"\"\n",
    "    with open(filename, 'r') as f_in:\n",
    "        # set up csv reader object\n",
    "        reader = csv.DictReader(f_in)\n",
    "        \n",
    "        # initialize count variables\n",
    "        n_subscribers = 0\n",
    "        n_customers = 0\n",
    "        \n",
    "        \n",
    "        # tally up ride types\n",
    "        for row in reader:\n",
    "            if row['user_type'] == 'Subscriber':\n",
    "                n_subscribers+=1\n",
    "            \n",
    "            else:\n",
    "                n_customers+=1\n",
    "        \n",
    "        # compute total number of rides\n",
    "        n_total = n_subscribers + n_customers\n",
    "    \n",
    "        # return tallies as a tuple\n",
    "        return(n_subscribers,n_customers, n_total)"
   ]
  },
  {
   "cell_type": "code",
   "execution_count": 9,
   "metadata": {},
   "outputs": [
    {
     "name": "stdout",
     "output_type": "stream",
     "text": [
      "('Washington:', (51753, 14573, 66326))\n",
      "('Chicago:', (54982, 17149, 72131))\n",
      "('NYC:', (245896, 30902, 276798))\n"
     ]
    }
   ],
   "source": [
    "## Modify this and the previous cell to answer Question 4a. Remember to run ##\n",
    "## the function on the cleaned data files you created from Question 3.      ##\n",
    "\n",
    "#data_file='./examples/BayArea-Y3-Summary.csv'\n",
    "\n",
    "data_Washington = './data/Washington-2016-Summary.csv'\n",
    "data_Chicago='./data/Chicago-2016-Summary.csv'\n",
    "data_NYC='./data/NYC-2016-Summary.csv'\n",
    "print('Washington:',number_of_trips(data_Washington))\n",
    "print('Chicago:',number_of_trips(data_Chicago))\n",
    "print('NYC:',number_of_trips(data_NYC))"
   ]
  },
  {
   "cell_type": "markdown",
   "metadata": {},
   "source": [
    "> **Tip**: In order to add additional cells to a notebook, you can use the \"Insert Cell Above\" and \"Insert Cell Below\" options from the menu bar above. There is also an icon in the toolbar for adding new cells, with additional icons for moving the cells up and down the document. By default, new cells are of the code type; you can also specify the cell type (e.g. Code or Markdown) of selected cells from the Cell menu or the dropdown in the toolbar.\n",
    "\n",
    "Now, you will write your own code to continue investigating properties of the data.\n",
    "\n",
    "**Question 4b**: Bike-share systems are designed for riders to take short trips. Most of the time, users are allowed to take trips of 30 minutes or less with no additional charges, with overage charges made for trips of longer than that duration. What is the average trip length for each city? What proportion of rides made in each city are longer than 30 minutes?\n",
    "\n",
    "**Answer**: Washington (18.93,10.84)\n",
    "            Chicago(16.56,8.33)\n",
    "            NYC(15.81, 7.30)\n"
   ]
  },
  {
   "cell_type": "code",
   "execution_count": 10,
   "metadata": {},
   "outputs": [
    {
     "name": "stdout",
     "output_type": "stream",
     "text": [
      "('Average Duration Washington:', (18.9353314664837, 10.842156064307906))\n",
      "('Average Duration Chicago:', (16.56387513922973, 8.332986703270802))\n",
      "('Average Duration NYC:', (15.812574377612789, 7.302463538260892))\n"
     ]
    }
   ],
   "source": [
    "def Average_Duration(filename):\n",
    "    \"\"\" This function  reads in a file with trip data and returns the\n",
    "    the average duration of the trip\n",
    "    \"\"\"\n",
    "    with open(filename, 'r') as f_in:\n",
    "        #set up csv reader object\n",
    "        reader=csv.DictReader(f_in)\n",
    "        \n",
    "        duration= 0\n",
    "        n_trips= 0\n",
    "        duration_given= 0\n",
    "        for row in reader:\n",
    "            duration+=float(row['duration'])\n",
    "            n_trips+=1\n",
    "            if (float(row['duration']))>30:\n",
    "                duration_given+=1\n",
    "            \n",
    "                avg=float(duration)/float(n_trips)         \n",
    "                prop=float(duration_given)/(float(n_trips))*100\n",
    "                \n",
    "        return(avg,prop)\n",
    "            \n",
    "data_Washington='./data/Washington-2016-Summary.csv'\n",
    "print(\"Average Duration Washington:\",Average_Duration(data_Washington))\n",
    "\n",
    "data_Chicago='./data/Chicago-2016-Summary.csv'\n",
    "print(\"Average Duration Chicago:\",Average_Duration(data_Chicago))   \n",
    "\n",
    "data_NYC='./data/NYC-2016-Summary.csv'\n",
    "print(\"Average Duration NYC:\",Average_Duration(data_NYC))\n"
   ]
  },
  {
   "cell_type": "code",
   "execution_count": 11,
   "metadata": {
    "scrolled": true
   },
   "outputs": [],
   "source": [
    "## Use this and additional cells to answer Question 4b.                 ##\n",
    "##                                                                      ##\n",
    "## HINT: The csv module reads in all of the data as strings, including  ##\n",
    "## numeric values. You will need a function to convert the strings      ##\n",
    "## into an appropriate numeric type before you aggregate data.          ##\n",
    "## TIP: For the Bay Area example, the average trip length is 14 minutes ##\n",
    "## and 3.5% of trips are longer than 30 minutes.                        ##\n",
    "\n"
   ]
  },
  {
   "cell_type": "markdown",
   "metadata": {},
   "source": [
    "**Question 4c**: Dig deeper into the question of trip duration based on ridership. Choose one city. Within that city, which type of user takes longer rides on average: Subscribers or Customers?\n",
    "\n",
    "**Answer**: customers with 32.77"
   ]
  },
  {
   "cell_type": "code",
   "execution_count": 12,
   "metadata": {},
   "outputs": [
    {
     "name": "stdout",
     "output_type": "stream",
     "text": [
      "('Trip_time_duration NYC,:', (13.680790523907177, 32.77595139473187))\n"
     ]
    }
   ],
   "source": [
    "def trip_time_duration(filename):\n",
    "    \n",
    "    \"\"\"This function reads in a file with trip data and returns the \n",
    "    average customer and subscriber trip duration  \n",
    "    \"\"\"\n",
    "    \n",
    "    with open(filename)as f_in:\n",
    "        #set up a csv reader object\n",
    "        reader=csv.DictReader(f_in)\n",
    "        total_duration_cus=0\n",
    "        total_duration_sub=0\n",
    "        n_subscriber=0\n",
    "        n_customer=0\n",
    "        for row in reader:\n",
    "            if row['user_type']=='Subscriber':\n",
    "                total_duration_sub+=float(row['duration'])\n",
    "                n_subscriber+=1\n",
    "                avg_sub=(total_duration_sub/n_subscriber)#Calclation of average Subscriber#\n",
    "                 \n",
    "            else:\n",
    "                total_duration_cus+=float(row['duration'])\n",
    "                n_customer+=1\n",
    "                avg_cust=(total_duration_cus/n_customer)#Calculation of average Customer#\n",
    "        return(avg_sub, avg_cust)\n",
    "\n",
    "data_NYC ='./data/NYC-2016-Summary.csv' \n",
    "data_Washington='./data/Washington-2016-Summary.csv'\n",
    "data_Chicago='./data/Chicago-2016-Summary.csv'\n",
    "print(\"Trip_time_duration NYC,:\",trip_time_duration(data_NYC))\n"
   ]
  },
  {
   "cell_type": "code",
   "execution_count": 13,
   "metadata": {},
   "outputs": [],
   "source": [
    "## Use this and additional cells to answer Question 4c. If you have    ##\n",
    "## not done so yet, consider revising some of your previous code to    ##\n",
    "## make use of functions for reusability.                              ##\n",
    "##                                                                     ##\n",
    "## TIP: For the Bay Area example data, you should find the average     ##\n",
    "## Subscriber trip duration to be 9.5 minutes and the average Customer ##\n",
    "## trip duration to be 54.6 minutes. Do the other cities have this     ##\n",
    "## level of difference?                                                ##\n",
    "\n"
   ]
  },
  {
   "cell_type": "markdown",
   "metadata": {},
   "source": [
    "<a id='visualizations'></a>\n",
    "### Visualizations\n",
    "\n",
    "The last set of values that you computed should have pulled up an interesting result. While the mean trip time for Subscribers is well under 30 minutes, the mean trip time for Customers is actually _above_ 30 minutes! It will be interesting for us to look at how the trip times are distributed. In order to do this, a new library will be introduced here, `matplotlib`. Run the cell below to load the library and to generate an example plot."
   ]
  },
  {
   "cell_type": "code",
   "execution_count": 14,
   "metadata": {},
   "outputs": [
    {
     "data": {
      "image/png": "[encoded data removed]",
      "text/plain": [
       "<matplotlib.figure.Figure at 0x7f3f7549ee50>"
      ]
     },
     "metadata": {},
     "output_type": "display_data"
    }
   ],
   "source": [
    "# load library\n",
    "import matplotlib.pyplot as plt\n",
    "\n",
    "# this is a 'magic word' that allows for plots to be displayed\n",
    "# inline with the notebook. If you want to know more, see:\n",
    "# http://ipython.readthedocs.io/en/stable/interactive/magics.html\n",
    "%matplotlib inline \n",
    "\n",
    "# example histogram, data taken from bay area sample\n",
    "data = [ 7.65,  8.92,  7.42,  5.50, 16.17,  4.20,  8.98,  9.62, 11.48, 14.33,\n",
    "        19.02, 21.53,  3.90,  7.97,  2.62,  2.67,  3.08, 14.40, 12.90,  7.83,\n",
    "        25.12,  8.30,  4.93, 12.43, 10.60,  6.17, 10.88,  4.78, 15.15,  3.53,\n",
    "         9.43, 13.32, 11.72,  9.85,  5.22, 15.10,  3.95,  3.17,  8.78,  1.88,\n",
    "         4.55, 12.68, 12.38,  9.78,  7.63,  6.45, 17.38, 11.90, 11.52,  8.63,]\n",
    "plt.hist(data)\n",
    "plt.title('Distribution of Trip Durations')\n",
    "plt.xlabel('Duration (m)')\n",
    "plt.show()"
   ]
  },
  {
   "cell_type": "markdown",
   "metadata": {},
   "source": [
    "In the above cell, we collected fifty trip times in a list, and passed this list as the first argument to the `.hist()` function. This function performs the computations and creates plotting objects for generating a histogram, but the plot is actually not rendered until the `.show()` function is executed. The `.title()` and `.xlabel()` functions provide some labeling for plot context.\n",
    "\n",
    "You will now use these functions to create a histogram of the trip times for the city you selected in question 4c. Don't separate the Subscribers and Customers for now: just collect all of the trip times and plot them."
   ]
  },
  {
   "cell_type": "code",
   "execution_count": 15,
   "metadata": {},
   "outputs": [
    {
     "data": {
      "image/png": "[encoded data removed]",
      "text/plain": [
       "<matplotlib.figure.Figure at 0x7f3f7549eb50>"
      ]
     },
     "metadata": {},
     "output_type": "display_data"
    },
    {
     "name": "stdout",
     "output_type": "stream",
     "text": [
      "None\n",
      "The Graph show the number of trips made by users for NYC\n"
     ]
    }
   ],
   "source": [
    "def create_hist(filename):\n",
    "    with open(filename,'r')as f_in:\n",
    "        reader=csv.DictReader(f_in)# set up a csv reader#\n",
    "        data=[] # data for both subcribers and customers#\n",
    "        for row in reader:\n",
    "            data.append(float(row['duration']))\n",
    "        plt.hist(data)  \n",
    "        plt.title('Distribution of Duration')\n",
    "        plt.xlabel('Duration (Min)')\n",
    "        plt.ylabel('Number of Trips')\n",
    "        plt.show()\n",
    "\n",
    "data_NYC='./data/NYC-2016-Summary.csv'\n",
    "print(create_hist(data_NYC))\n",
    "print('The Graph show the number of trips made by users for NYC')\n"
   ]
  },
  {
   "cell_type": "markdown",
   "metadata": {},
   "source": [
    "If you followed the use of the `.hist()` and `.show()` functions exactly like in the example, you're probably looking at a plot that's completely unexpected. The plot consists of one extremely tall bar on the left, maybe a very short second bar, and a whole lot of empty space in the center and right. Take a look at the duration values on the x-axis. This suggests that there are some highly infrequent outliers in the data. Instead of reprocessing the data, you will use additional parameters with the `.hist()` function to limit the range of data that is plotted. Documentation for the function can be found [[here]](https://matplotlib.org/devdocs/api/_as_gen/matplotlib.pyplot.hist.html#matplotlib.pyplot.hist).\n",
    "\n",
    "**Question 5**: Use the parameters of the `.hist()` function to plot the distribution of trip times for the Subscribers in your selected city. Do the same thing for only the Customers. Add limits to the plots so that only trips of duration less than 75 minutes are plotted. As a bonus, set the plots up so that bars are in five-minute wide intervals. For each group, where is the peak of each distribution? How would you describe the shape of each distribution?\n",
    "\n",
    "**Answer**:For Subscribers the peak of distribution is between 5-10mins duration with over 8000 trips covered while for Customers the peak of distribution is between 20-25mins duration with over 5000 trips covered.\n",
    "\n",
    "For subscribers the graph is skewed to the right with a unimodal peak while for Customers the graph is skewed to the right almost."
   ]
  },
  {
   "cell_type": "code",
   "execution_count": 16,
   "metadata": {},
   "outputs": [
    {
     "data": {
      "image/png": "[encoded data removed]",
      "text/plain": [
       "<matplotlib.figure.Figure at 0x7f3f7549e2d0>"
      ]
     },
     "metadata": {},
     "output_type": "display_data"
    },
    {
     "data": {
      "image/png": "[encoded data removed]",
      "text/plain": [
       "<matplotlib.figure.Figure at 0x7f3f7320f190>"
      ]
     },
     "metadata": {},
     "output_type": "display_data"
    },
    {
     "name": "stdout",
     "output_type": "stream",
     "text": [
      "None\n",
      "The Graph shows the number of trips made by Customers and Subscribers in NYC\n"
     ]
    }
   ],
   "source": [
    "## Use this and additional cells to answer Question 5. ##\n",
    "def distribution_trip_hist(filename):   \n",
    "    with open(filename,'r')as f_in:\n",
    "        reader=csv.DictReader(f_in)# set up a csv reader#\n",
    "        sub_data=[]# data for subscribers#\n",
    "        cust_data=[]# data for customers#\n",
    "        for row in reader:\n",
    "            if row['user_type']=='Subscriber':\n",
    "                sub_data.append(float(row['duration']))\n",
    "            else:\n",
    "                cust_data.append(float(row['duration']))\n",
    "            \n",
    "        plt.hist(sub_data,bins=range(0,75,5))\n",
    "        plt.title('Trip Distribution of Subscriber')\n",
    "        plt.xlabel('Duration(mins)')\n",
    "        plt.ylabel('Number of Trips')\n",
    "        plt.show()\n",
    "        \n",
    "\n",
    "        plt.hist(cust_data,bins=range(0,75,5))\n",
    "        plt.title('Trip Distribution of Customers')\n",
    "        plt.ylabel('Number of Trips')\n",
    "        plt.xlabel('Duration(mins)')\n",
    "        plt.show()                         \n",
    "                                 \n",
    "data_NYC='./data/NYC-2016-Summary.csv'  \n",
    "print(distribution_trip_hist(data_NYC))\n",
    "\n",
    "print('The Graph shows the number of trips made by Customers and Subscribers in NYC')"
   ]
  },
  {
   "cell_type": "markdown",
   "metadata": {},
   "source": [
    "<a id='eda_continued'></a>\n",
    "## Performing Your Own Analysis\n",
    "\n",
    "So far, you've performed an initial exploration into the data available. You have compared the relative volume of trips made between three U.S. cities and the ratio of trips made by Subscribers and Customers. For one of these cities, you have investigated differences between Subscribers and Customers in terms of how long a typical trip lasts. Now it is your turn to continue the exploration in a direction that you choose. Here are a few suggestions for questions to explore:\n",
    "\n",
    "- How does ridership differ by month or season? Which month / season has the highest ridership? Does the ratio of Subscriber trips to Customer trips change depending on the month or season?\n",
    "- Is the pattern of ridership different on the weekends versus weekdays? On what days are Subscribers most likely to use the system? What about Customers? Does the average duration of rides change depending on the day of the week?\n",
    "- During what time of day is the system used the most? Is there a difference in usage patterns for Subscribers and Customers?\n",
    "\n",
    "If any of the questions you posed in your answer to question 1 align with the bullet points above, this is a good opportunity to investigate one of them. As part of your investigation, you will need to create a visualization. If you want to create something other than a histogram, then you might want to consult the [Pyplot documentation](https://matplotlib.org/devdocs/api/pyplot_summary.html). In particular, if you are plotting values across a categorical variable (e.g. city, user type), a bar chart will be useful. The [documentation page for `.bar()`](https://matplotlib.org/devdocs/api/_as_gen/matplotlib.pyplot.bar.html#matplotlib.pyplot.bar) includes links at the bottom of the page with examples for you to build off of for your own use.\n",
    "\n",
    "**Question 6**: \n",
    "\n",
    "Do Cunstomer or Subscriber use the Bike more during the Weekday\n",
    "Do Cunstomer or subscribers use the Bike more on Weekenday or Weekend\n",
    "Who uses the Bike more, the Customer or Subscriber\n",
    "What day of the week is the Bike used most\n",
    "How is the ridership within a 24hr period of a day\n",
    "What is the peak period for ridership for both Subscribers and customers\n",
    "\n",
    "            \n",
    "            \n",
    "            \n",
    "            "
   ]
  },
  {
   "cell_type": "code",
   "execution_count": 17,
   "metadata": {},
   "outputs": [
    {
     "data": {
      "image/png": "[encoded data removed]",
      "text/plain": [
       "<matplotlib.figure.Figure at 0x7f3f731a4710>"
      ]
     },
     "metadata": {},
     "output_type": "display_data"
    },
    {
     "data": {
      "image/png": "[encoded data removed]",
      "text/plain": [
       "<matplotlib.figure.Figure at 0x7f3f731f4450>"
      ]
     },
     "metadata": {},
     "output_type": "display_data"
    },
    {
     "name": "stdout",
     "output_type": "stream",
     "text": [
      "None\n",
      "The Graph shows the weekly trip made by Subscribers and Customers in NYC\n"
     ]
    }
   ],
   "source": [
    "def season_trip(filename):\n",
    "    \n",
    "    with open (filename, 'r') as f_in:\n",
    "        reader=csv.DictReader(f_in)# set up a csv reader#\n",
    "        Sub=[] # data for subscriber#\n",
    "        Cust=[]# data for customers#\n",
    "        \n",
    "        for row in reader:\n",
    "            if row['user_type']=='Subscriber':\n",
    "                Sub.append(row['day_of_week'])\n",
    "            else:\n",
    "                Cust.append(row['day_of_week'])\n",
    "    \n",
    "        \n",
    "        sns.countplot(Sub,order=['Monday','Tuesday','Wednesday','Thursday','Friday','Saturday','Sunday'],color='blue' )\n",
    "        # The \"orders\" parameter fill in the days of the week in a sequence#\n",
    "        plt.title('Weekly Trip made by Subscribers', size=12)\n",
    "        plt.xlabel(\"Days of Week\", size=12)\n",
    "        plt.ylabel('Number of Trips', size=12)\n",
    "        plt.show()\n",
    "        \n",
    "    \n",
    "        sns.countplot(Cust,order=['Monday','Tuesday','Wednesday','Thursday','Friday','Saturday','Sunday'],color='blue' )\n",
    "        # The \"orders\" parameter fill in the days of the week in a sequence#\n",
    "        plt.title('Weekly Trip made by Customers', size=12)\n",
    "        plt.xlabel(\"Days of Week\", size=12)\n",
    "        plt.ylabel('Number of Trips', size=12)\n",
    "        plt.show()\n",
    "        \n",
    "    \n",
    "    \n",
    "       \n",
    "data_NYC='./data/NYC-2016-Summary.csv' \n",
    "print(season_trip(data_NYC))\n",
    "\n",
    "print('The Graph shows the weekly trip made by Subscribers and Customers in NYC')\n",
    "            \n",
    "        \n",
    "    \n",
    "    \n",
    "    \n",
    "\n"
   ]
  },
  {
   "cell_type": "code",
   "execution_count": 18,
   "metadata": {},
   "outputs": [],
   "source": [
    "#Observations#\n",
    "\n",
    "#The graph for Subscriber is a non symmetrical graph skewed to the right while the for customers the\n",
    "#graph is a non-symmetrical skewed to the left.\n",
    "\n",
    "#In NYC the ratio of Subscribers to Customers during the Weekdays is higher for subscribers\n",
    "#which suggest that more subscribers use the Bike during the weekday.\n",
    "\n",
    "#In NYC , there are more customers that use the Bike on weekends than subscribers. \n",
    "\n",
    "#In NYC for Subscribers the use bike peaks at Wednesday and Thursday with over 40,000trips while for \n",
    "#Customers it peaks at Saturday with 7,000 trips.\n",
    "\n"
   ]
  },
  {
   "cell_type": "code",
   "execution_count": 19,
   "metadata": {},
   "outputs": [
    {
     "data": {
      "image/png": "[encoded data removed]",
      "text/plain": [
       "<matplotlib.figure.Figure at 0x7f3f73131c10>"
      ]
     },
     "metadata": {},
     "output_type": "display_data"
    },
    {
     "data": {
      "image/png": "[encoded data removed]",
      "text/plain": [
       "<matplotlib.figure.Figure at 0x7f3f723c12d0>"
      ]
     },
     "metadata": {},
     "output_type": "display_data"
    },
    {
     "name": "stdout",
     "output_type": "stream",
     "text": [
      "None\n",
      "The Graph shows the Hourly trip made by Subscribers and Customers in NYC\n"
     ]
    }
   ],
   "source": [
    "def season_trip(filename):\n",
    "    \n",
    "    with open (filename, 'r') as f_in:\n",
    "        reader=csv.DictReader(f_in)\n",
    "        Sub=[]#Data for Subscribers#\n",
    "        Cust=[]# data for Customers#\n",
    "        \n",
    "        for row in reader:\n",
    "            if row['user_type']=='Subscriber':\n",
    "                Sub.append(float(row['hour']))\n",
    "            else:\n",
    "                Cust.append(float(row['hour']))\n",
    "    \n",
    "        \n",
    "        Subscribers=sns.countplot(Sub,order=[1,2,3,4,5,6,7,8,9,10,11,12,13,14,15,16,17,18,19,20,12,22,23,24],color='blue' )\n",
    "        #The \"orders\" parameter fill in the hours in a 24hrs sequence#\n",
    "        plt.title('Hourly trip Made by Customers', size=12)\n",
    "        plt.xlabel('Time (Hrs)', size=12)\n",
    "        plt.ylabel('Number of Trips',size=12)\n",
    "        plt.show()\n",
    "    \n",
    "        Customers=sns.countplot(Cust, order=[1,2,3,4,5,6,7,8,9,10,11,12,13,14,15,16,18,19,20,21,22,23,24],color='blue')\n",
    "        # The \"orders\" parameter fill in the hours  in a 24hrs sequence#\n",
    "        plt.title('Hourly Trip Made by Customers', size=12)\n",
    "        plt.xlabel('Time (Hrs)', size=12)\n",
    "        plt.ylabel('Number of Trips', size=12)\n",
    "        plt.show()\n",
    "    \n",
    "       \n",
    "data_NYC='./data/NYC-2016-Summary.csv' \n",
    "print(season_trip(data_NYC))\n",
    "\n",
    "print('The Graph shows the Hourly trip made by Subscribers and Customers in NYC')\n",
    "            \n"
   ]
  },
  {
   "cell_type": "code",
   "execution_count": 20,
   "metadata": {},
   "outputs": [],
   "source": [
    "##Observation\n",
    "#The graph for subscriber is a non-symmetrical with bimodal peaks skewed to the left\n",
    "#while for Customers the graph is a non-symmetrical unimomdal peak skewed to the left\n",
    "#In Chicago more Subscribers use the Bike more during the day and in the mornings \n",
    "#In Chicago there more Customers that use the bike during the day and fewer in the mornings than Subscribers\n",
    "#For ridership for both Subscribers and Customers is for a period of 23hrs throughout the day\n",
    "#For Subscribers the rideship peaks at 17hrs(3pm) withover 2000trips while for Customers it \n",
    "#peaks at 15hrs(1pm) with over 20,000 trips."
   ]
  },
  {
   "cell_type": "markdown",
   "metadata": {},
   "source": [
    "<a id='conclusions'></a>\n",
    "## Conclusions\n",
    "\n",
    "Congratulations on completing the project! This is only a sampling of the data analysis process: from generating questions, wrangling the data, and to exploring the data. Normally, at this point in the data analysis process, you might want to draw conclusions about the data by performing a statistical test or fitting the data to a model for making predictions. There are also a lot of potential analyses that could be performed on the data which are not possible with only the data provided. For example, detailed location data has not been investigated. Where are the most commonly used docks? What are the most common routes? As another example, weather has potential to have a large impact on daily ridership. How much is ridership impacted when there is rain or snow? Are subscribers or customers affected more by changes in weather?\n",
    "\n",
    "**Question 7**: Putting the bike share data aside, think of a topic or field of interest where you would like to be able to apply the techniques of data science. What would you like to be able to learn from your chosen subject?\n",
    "\n",
    "**Answer**:Based on my background in healthcare and research, the techniques of data science could be used in the gathering of medical information(data) and the processing of such information to achieve a good result.\n",
    "\n",
    "> **Tip**: If we want to share the results of our analysis with others, we aren't limited to giving them a copy of the jupyter Notebook (.ipynb) file. We can also export the Notebook output in a form that can be opened even for those without Python installed. From the **File** menu in the upper left, go to the **Download as** submenu. You can then choose a different format that can be viewed more generally, such as HTML (.html) or\n",
    "PDF (.pdf). You may need additional packages or software to perform these exports."
   ]
  },
  {
   "cell_type": "code",
   "execution_count": null,
   "metadata": {},
   "outputs": [],
   "source": []
  }
 ],
 "metadata": {
  "anaconda-cloud": {},
  "kernelspec": {
   "display_name": "Python 2",
   "language": "python",
   "name": "python2"
  },
  "language_info": {
   "codemirror_mode": {
    "name": "ipython",
    "version": 2
   },
   "file_extension": ".py",
   "mimetype": "text/x-python",
   "name": "python",
   "nbconvert_exporter": "python",
   "pygments_lexer": "ipython2",
   "version": "2.7.14"
  }
 },
 "nbformat": 4,
 "nbformat_minor": 1
}
